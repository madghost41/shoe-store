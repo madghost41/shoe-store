{
 "cells": [
  {
   "cell_type": "code",
   "execution_count": 1,
   "metadata": {},
   "outputs": [],
   "source": [
    "import pandas as pd\n",
    "import numpy as np\n",
    "from sklearn.model_selection import train_test_split\n",
    "from sklearn.neighbors import NearestNeighbors\n",
    "from sklearn.preprocessing import LabelEncoder, StandardScaler\n",
    "from sklearn.compose import ColumnTransformer\n",
    "from sklearn.metrics import accuracy_score\n"
   ]
  },
  {
   "cell_type": "code",
   "execution_count": 8,
   "metadata": {},
   "outputs": [],
   "source": [
    "# importing JSON file\n",
    "import json \n",
    "with open(r'..\\mongo\\shoes_data.json', 'r') as file:\n",
    "    data = json.load(file)\n",
    "print(data)"
   ]
  },
  {
   "cell_type": "code",
   "execution_count": 3,
   "metadata": {},
   "outputs": [
    {
     "name": "stdout",
     "output_type": "stream",
     "text": [
      "     shoe_id  size         brand   price       style  rating\n",
      "0          1    11          Puma   62.74  Basketball     6.9\n",
      "1          2    14          Puma  201.24     Walking     5.0\n",
      "2          3     8          Puma  170.04  Basketball     4.0\n",
      "3          4    13        Reebok  137.31     Walking     8.9\n",
      "4          5    14          Nike  143.16  Basketball     7.2\n",
      "..       ...   ...           ...     ...         ...     ...\n",
      "995      996     8  Under Armour  174.44     Walking     8.9\n",
      "996      997    12        Reebok   65.19     Walking     5.0\n",
      "997      998    13          Puma  131.50     Walking     4.8\n",
      "998      999    13        Adidas  151.80     Running     7.2\n",
      "999     1000    11          Nike   60.33  Basketball     4.0\n",
      "\n",
      "[1000 rows x 6 columns]\n"
     ]
    }
   ],
   "source": [
    "# formating the data and making columns\n",
    "import ast\n",
    "\n",
    "df = pd.json_normalize(data, max_level=1)\n",
    "\n",
    "df = df.rename(columns={\n",
    "    'shoeDetails.shoe_id': 'shoe_id',\n",
    "    'shoeDetails.size': 'size',\n",
    "    'shoeDetails.brand': 'brand',\n",
    "    'shoeDetails.price': 'price',\n",
    "    'shoeDetails.style': 'style',\n",
    "    'shoeDetails.rating': 'rating'\n",
    "})\n",
    "\n",
    "print(df)\n",
    "\n",
    "df.to_csv(\"new_shoes.csv\", index=False)"
   ]
  },
  {
   "cell_type": "code",
   "execution_count": 11,
   "metadata": {},
   "outputs": [
    {
     "name": "stdout",
     "output_type": "stream",
     "text": [
      "            brand       style\n",
      "0            Puma  Basketball\n",
      "1            Puma     Walking\n",
      "2            Puma  Basketball\n",
      "3          Reebok     Walking\n",
      "4            Nike  Basketball\n",
      "..            ...         ...\n",
      "995  Under Armour     Walking\n",
      "996        Reebok     Walking\n",
      "997          Puma     Walking\n",
      "998        Adidas     Running\n",
      "999          Nike  Basketball\n",
      "\n",
      "[1000 rows x 2 columns] 0      6.9\n",
      "1      5.0\n",
      "2      4.0\n",
      "3      8.9\n",
      "4      7.2\n",
      "      ... \n",
      "995    8.9\n",
      "996    5.0\n",
      "997    4.8\n",
      "998    7.2\n",
      "999    4.0\n",
      "Name: rating, Length: 1000, dtype: float64\n"
     ]
    }
   ],
   "source": [
    "data = pd.read_csv('new_shoes.csv')\n",
    "\n",
    "X = df[['brand', 'style']]\n",
    "Y = df['rating']\n",
    "print(X, Y)\n"
   ]
  },
  {
   "cell_type": "code",
   "execution_count": null,
   "metadata": {},
   "outputs": [],
   "source": []
  }
 ],
 "metadata": {
  "kernelspec": {
   "display_name": "Python 3",
   "language": "python",
   "name": "python3"
  },
  "language_info": {
   "codemirror_mode": {
    "name": "ipython",
    "version": 3
   },
   "file_extension": ".py",
   "mimetype": "text/x-python",
   "name": "python",
   "nbconvert_exporter": "python",
   "pygments_lexer": "ipython3",
   "version": "3.12.3"
  }
 },
 "nbformat": 4,
 "nbformat_minor": 2
}
